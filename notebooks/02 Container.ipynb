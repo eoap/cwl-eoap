{
 "cells": [
  {
   "cell_type": "markdown",
   "metadata": {},
   "source": [
    "# Container"
   ]
  },
  {
   "cell_type": "markdown",
   "metadata": {},
   "source": [
    "Create a file `app.py` with the Python command line application:"
   ]
  },
  {
   "cell_type": "code",
   "execution_count": 4,
   "metadata": {
    "vscode": {
     "languageId": "shellscript"
    }
   },
   "outputs": [],
   "source": [
    "cat << EOF > app.py\n",
    "import os\n",
    "import click\n",
    "import pystac\n",
    "import rasterio\n",
    "from rasterio.mask import mask\n",
    "from pyproj import Transformer\n",
    "from shapely import box\n",
    "from loguru import logger\n",
    "\n",
    "\n",
    "def aoi2box(aoi):\n",
    "    \"\"\"Converts an area of interest expressed as a bounding box to a list of floats\"\"\"\n",
    "    return [float(c) for c in aoi.split(\",\")]\n",
    "\n",
    "\n",
    "def get_asset(item, common_name):\n",
    "    \"\"\"Returns the asset of a STAC Item defined with its common band name\"\"\"\n",
    "    for _, asset in item.get_assets().items():\n",
    "        if not \"data\" in asset.to_dict()[\"roles\"]:\n",
    "            continue\n",
    "\n",
    "        eo_asset = pystac.extensions.eo.AssetEOExtension(asset)\n",
    "        if not eo_asset.bands:\n",
    "            continue\n",
    "        for b in eo_asset.bands:\n",
    "            if (\n",
    "                \"common_name\" in b.properties.keys()\n",
    "                and b.properties[\"common_name\"] == common_name\n",
    "            ):\n",
    "                return asset\n",
    "\n",
    "\n",
    "@click.command(\n",
    "    short_help=\"Crop\",\n",
    "    help=\"Crops a STAC Item asset defined with its common band name\",\n",
    ")\n",
    "@click.option(\n",
    "    \"--input-item\",\n",
    "    \"item_url\",\n",
    "    help=\"STAC Item URL or staged STAC catalog\",\n",
    "    required=True,\n",
    ")\n",
    "@click.option(\n",
    "    \"--aoi\",\n",
    "    \"aoi\",\n",
    "    help=\"Area of interest expressed as a bounding box\",\n",
    "    required=True,\n",
    ")\n",
    "@click.option(\n",
    "    \"--epsg\",\n",
    "    \"epsg\",\n",
    "    help=\"EPSG code\",\n",
    "    required=True,\n",
    ")\n",
    "@click.option(\n",
    "    \"--band\",\n",
    "    \"band\",\n",
    "    help=\"Common band name\",\n",
    "    required=True,\n",
    ")\n",
    "def crop(item_url, aoi, band, epsg):\n",
    "\n",
    "    if os.path.isdir(item_url):\n",
    "        catalog = pystac.read_file(os.path.join(item_url, \"catalog.json\"))\n",
    "        item = next(catalog.get_items())\n",
    "    else:\n",
    "        item = pystac.read_file(item_url)\n",
    "\n",
    "    logger.info(f\"Read {item.id} from {item.get_self_href()}\")\n",
    "\n",
    "    asset = get_asset(item, band)\n",
    "    logger.info(f\"Read asset {band} from {asset.get_absolute_href()}\")\n",
    "\n",
    "    if not asset:\n",
    "        msg = f\"Common band name {band} not found in the assets\"\n",
    "        logger.error(msg)\n",
    "        raise ValueError(msg)\n",
    "\n",
    "    bbox = aoi2box(aoi)\n",
    "\n",
    "    with rasterio.open(asset.get_absolute_href()) as src:\n",
    "\n",
    "        transformer = Transformer.from_crs(epsg, src.crs, always_xy=True)\n",
    "\n",
    "        minx, miny = transformer.transform(bbox[0], bbox[1])\n",
    "        maxx, maxy = transformer.transform(bbox[2], bbox[3])\n",
    "\n",
    "        transformed_bbox = box(minx, miny, maxx, maxy)\n",
    "\n",
    "        logger.info(f\"Crop {asset.get_absolute_href()}\")\n",
    "\n",
    "        out_image, out_transform = rasterio.mask.mask(\n",
    "            src, [transformed_bbox], crop=True\n",
    "        )\n",
    "        out_meta = src.meta.copy()\n",
    "\n",
    "        out_meta.update(\n",
    "            {\n",
    "                \"height\": out_image.shape[1],\n",
    "                \"width\": out_image.shape[2],\n",
    "                \"transform\": out_transform,\n",
    "                \"dtype\": \"uint16\",\n",
    "                \"driver\": \"COG\",\n",
    "                \"tiled\": True,\n",
    "                \"compress\": \"lzw\",\n",
    "                \"blockxsize\": 256,\n",
    "                \"blockysize\": 256,\n",
    "            }\n",
    "        )\n",
    "\n",
    "        with rasterio.open(f\"crop_{band}.tif\", \"w\", **out_meta) as dst_dataset:\n",
    "            logger.info(f\"Write crop_{band}.tif\")\n",
    "            dst_dataset.write(out_image)\n",
    "\n",
    "    logger.info(\"Done!\")\n",
    "\n",
    "\n",
    "if __name__ == \"__main__\":\n",
    "    crop()\n",
    "EOF"
   ]
  },
  {
   "cell_type": "markdown",
   "metadata": {},
   "source": [
    "Create a file called `Dockerfile` with all the necessary commands to assemble an image"
   ]
  },
  {
   "cell_type": "code",
   "execution_count": 5,
   "metadata": {
    "vscode": {
     "languageId": "shellscript"
    }
   },
   "outputs": [],
   "source": [
    "cat << EOF  > Dockerfile\n",
    "FROM docker.io/python:3.10-slim\n",
    "\n",
    "RUN pip install --no-cache-dir rasterio click pystac loguru pyproj shapely && \\\n",
    "    python -c \"import rasterio\"\n",
    "\n",
    "ADD app.py /app/app.py\n",
    "\n",
    "ENTRYPOINT []\n",
    "EOF"
   ]
  },
  {
   "cell_type": "code",
   "execution_count": 6,
   "metadata": {
    "vscode": {
     "languageId": "shellscript"
    }
   },
   "outputs": [
    {
     "name": "stdout",
     "output_type": "stream",
     "text": [
      "FROM docker.io/python:3.10-slim\n",
      "\n",
      "RUN pip install --no-cache-dir rasterio click pystac loguru pyproj shapely &&     python -c \"import rasterio\"\n",
      "\n",
      "ADD app.py /app/app.py\n",
      "\n",
      "ENTRYPOINT []\n"
     ]
    }
   ],
   "source": [
    "cat Dockerfile"
   ]
  },
  {
   "cell_type": "markdown",
   "metadata": {},
   "source": [
    "Use `podman` to build the container:"
   ]
  },
  {
   "cell_type": "code",
   "execution_count": 7,
   "metadata": {
    "vscode": {
     "languageId": "shellscript"
    }
   },
   "outputs": [
    {
     "name": "stdout",
     "output_type": "stream",
     "text": [
      "\u001b[33mWARN\u001b[0m[0000] \"/\" is not a shared mount, this could cause issues or missing mounts with rootless containers \n",
      "STEP 1/4: FROM docker.io/python:3.10-slim\n",
      "Trying to pull docker.io/library/python:3.10-slim...\n",
      "Getting image source signatures\n",
      "Copying blob 4a654a9b63a6 [==============>---------------------] 1.3MiB / 3.2MiB\n",
      "Copying blob 9e59167aa400 [====================================] 244.0b / 244.0b\n",
      "Copying blob 1103112ebfc4 [=================>------------------] 1.7MiB / 3.3MiB\n",
      "Copying blob d155c15b7553 [===>-------------------------------] 1.3MiB / 11.8MiB\n",
      "Copying blob 8a1e25ce7c4f [>----------------------------------] 1.0MiB / 27.8MiB\n",
      "\u001b[5A\u001b[JCopying blob 4a654a9b63a6 [=======================>------------] 2.2MiB / 3.2MiB\n",
      "Copying blob 9e59167aa400 done  \n",
      "Copying blob 1103112ebfc4 [============================>-------] 2.7MiB / 3.3MiB\n",
      "Copying blob d155c15b7553 [=======>---------------------------] 2.5MiB / 11.8MiB\n",
      "Copying blob 8a1e25ce7c4f [==>--------------------------------] 2.5MiB / 27.8MiB\n",
      "\u001b[5A\u001b[JCopying blob 4a654a9b63a6 [=================================>--] 3.0MiB / 3.2MiB\n",
      "Copying blob 9e59167aa400 done  \n",
      "Copying blob 1103112ebfc4 [====================================] 3.3MiB / 3.3MiB\n",
      "Copying blob d155c15b7553 [=========>-------------------------] 3.4MiB / 11.8MiB\n",
      "Copying blob 8a1e25ce7c4f [===>-------------------------------] 3.1MiB / 27.8MiB\n",
      "\u001b[5A\u001b[JCopying blob 4a654a9b63a6 [====================================] 3.2MiB / 3.2MiB\n",
      "Copying blob 9e59167aa400 done  \n",
      "Copying blob 1103112ebfc4 done  \n",
      "Copying blob d155c15b7553 [============>----------------------] 4.2MiB / 11.8MiB\n",
      "Copying blob 8a1e25ce7c4f [===>-------------------------------] 3.5MiB / 27.8MiB\n",
      "\u001b[5A\u001b[JCopying blob 4a654a9b63a6 done  \n",
      "Copying blob 9e59167aa400 done  \n",
      "Copying blob 1103112ebfc4 done  \n",
      "Copying blob d155c15b7553 [=================>-----------------] 6.2MiB / 11.8MiB\n",
      "Copying blob 8a1e25ce7c4f [=====>-----------------------------] 5.0MiB / 27.8MiB\n",
      "\u001b[5A\u001b[JCopying blob 4a654a9b63a6 done  \n",
      "Copying blob 9e59167aa400 done  \n",
      "Copying blob 1103112ebfc4 done  \n",
      "Copying blob d155c15b7553 [========================>----------] 8.5MiB / 11.8MiB\n",
      "Copying blob 8a1e25ce7c4f [=======>---------------------------] 6.2MiB / 27.8MiB\n",
      "\u001b[5A\u001b[JCopying blob 4a654a9b63a6 done  \n",
      "Copying blob 9e59167aa400 done  \n",
      "Copying blob 1103112ebfc4 done  \n",
      "Copying blob d155c15b7553 [===============================>--] 11.2MiB / 11.8MiB\n",
      "Copying blob 8a1e25ce7c4f [=========>-------------------------] 7.7MiB / 27.8MiB\n",
      "\u001b[5A\u001b[JCopying blob 4a654a9b63a6 done  \n",
      "Copying blob 9e59167aa400 done  \n",
      "Copying blob 1103112ebfc4 done  \n",
      "Copying blob d155c15b7553 [==================================] 11.8MiB / 11.8MiB\n",
      "Copying blob 8a1e25ce7c4f [===========>----------------------] 10.1MiB / 27.8MiB\n",
      "\u001b[5A\u001b[JCopying blob 4a654a9b63a6 done  \n",
      "Copying blob 9e59167aa400 done  \n",
      "Copying blob 1103112ebfc4 done  \n",
      "Copying blob d155c15b7553 done  \n",
      "Copying blob 8a1e25ce7c4f [==================>---------------] 15.3MiB / 27.8MiB\n",
      "\u001b[5A\u001b[JCopying blob 4a654a9b63a6 done  \n",
      "Copying blob 9e59167aa400 done  \n",
      "Copying blob 1103112ebfc4 done  \n",
      "Copying blob d155c15b7553 done  \n",
      "Copying blob 8a1e25ce7c4f [=======================>----------] 19.6MiB / 27.8MiB\n",
      "\u001b[5A\u001b[JCopying blob 4a654a9b63a6 done  \n",
      "Copying blob 9e59167aa400 done  \n",
      "Copying blob 1103112ebfc4 done  \n",
      "Copying blob d155c15b7553 done  \n",
      "Copying blob 8a1e25ce7c4f [============================>-----] 23.4MiB / 27.8MiB\n",
      "\u001b[5A\u001b[JCopying blob 4a654a9b63a6 done  \n",
      "Copying blob 9e59167aa400 done  \n",
      "Copying blob 1103112ebfc4 done  \n",
      "Copying blob d155c15b7553 done  \n",
      "Copying blob 8a1e25ce7c4f [===============================>--] 26.4MiB / 27.8MiB\n",
      "\u001b[5A\u001b[JCopying blob 4a654a9b63a6 done  \n",
      "Copying blob 9e59167aa400 done  \n",
      "Copying blob 1103112ebfc4 done  \n",
      "Copying blob d155c15b7553 done  \n",
      "Copying blob 8a1e25ce7c4f [==================================] 27.8MiB / 27.8MiB\n",
      "\u001b[5A\u001b[JCopying blob 4a654a9b63a6 done  \n",
      "Copying blob 9e59167aa400 done  \n",
      "Copying blob 1103112ebfc4 done  \n",
      "Copying blob d155c15b7553 done  \n",
      "Copying blob 8a1e25ce7c4f done  \n",
      "\u001b[5A\u001b[JCopying blob 4a654a9b63a6 done  \n",
      "Copying blob 9e59167aa400 done  \n",
      "Copying blob 1103112ebfc4 done  \n",
      "Copying blob d155c15b7553 done  \n",
      "Copying blob 8a1e25ce7c4f done  \n",
      "\u001b[5A\u001b[JCopying blob 4a654a9b63a6 done  \n",
      "Copying blob 9e59167aa400 done  \n",
      "Copying blob 1103112ebfc4 done  \n",
      "Copying blob d155c15b7553 done  \n",
      "Copying blob 8a1e25ce7c4f done  \n",
      "\u001b[5A\u001b[JCopying blob 4a654a9b63a6 done  \n",
      "Copying blob 9e59167aa400 done  \n",
      "Copying blob 1103112ebfc4 done  \n",
      "Copying blob d155c15b7553 done  \n",
      "Copying blob 8a1e25ce7c4f done  \n",
      "\u001b[5A\u001b[JCopying blob 4a654a9b63a6 done  \n",
      "Copying blob 9e59167aa400 done  \n",
      "Copying blob 1103112ebfc4 done  \n",
      "Copying blob d155c15b7553 done  \n",
      "Copying blob 8a1e25ce7c4f done  \n",
      "\u001b[5A\u001b[JCopying blob 4a654a9b63a6 done  \n",
      "Copying blob 9e59167aa400 done  \n",
      "Copying blob 1103112ebfc4 done  \n",
      "Copying blob d155c15b7553 done  \n",
      "Copying blob 8a1e25ce7c4f done  \n",
      "\u001b[5A\u001b[JCopying blob 4a654a9b63a6 done  \n",
      "Copying blob 9e59167aa400 done  \n",
      "Copying blob 1103112ebfc4 done  \n",
      "Copying blob d155c15b7553 done  \n",
      "Copying blob 8a1e25ce7c4f done  \n",
      "\u001b[5A\u001b[JCopying blob 4a654a9b63a6 done  \n",
      "Copying blob 9e59167aa400 done  \n",
      "Copying blob 1103112ebfc4 done  \n",
      "Copying blob d155c15b7553 done  \n",
      "Copying blob 8a1e25ce7c4f done  \n",
      "\u001b[5A\u001b[JCopying blob 4a654a9b63a6 done  \n",
      "Copying blob 9e59167aa400 done  \n",
      "Copying blob 1103112ebfc4 done  \n",
      "Copying blob d155c15b7553 done  \n",
      "Copying blob 8a1e25ce7c4f done  \n",
      "\u001b[5A\u001b[JCopying blob 4a654a9b63a6 done  \n",
      "Copying blob 9e59167aa400 done  \n",
      "Copying blob 1103112ebfc4 done  \n",
      "Copying blob d155c15b7553 done  \n",
      "Copying blob 8a1e25ce7c4f done  \n",
      "\u001b[5A\u001b[JCopying blob 4a654a9b63a6 done  \n",
      "Copying blob 9e59167aa400 done  \n",
      "Copying blob 1103112ebfc4 done  \n",
      "Copying blob d155c15b7553 done  \n",
      "Copying blob 8a1e25ce7c4f done  \n",
      "\u001b[5A\u001b[JCopying blob 4a654a9b63a6 done  \n",
      "Copying blob 9e59167aa400 done  \n",
      "Copying blob 1103112ebfc4 done  \n",
      "Copying blob d155c15b7553 done  \n",
      "Copying blob 8a1e25ce7c4f done  \n",
      "\u001b[5A\u001b[JCopying blob 4a654a9b63a6 done  \n",
      "Copying blob 9e59167aa400 done  \n",
      "Copying blob 1103112ebfc4 done  \n",
      "Copying blob d155c15b7553 done  \n",
      "Copying blob 8a1e25ce7c4f done  \n",
      "\u001b[5A\u001b[JCopying blob 4a654a9b63a6 done  \n",
      "Copying blob 9e59167aa400 done  \n",
      "Copying blob 1103112ebfc4 done  \n",
      "Copying blob d155c15b7553 done  \n",
      "Copying blob 8a1e25ce7c4f done  \n",
      "\u001b[5A\u001b[JCopying blob 4a654a9b63a6 done  \n",
      "Copying blob 9e59167aa400 done  \n",
      "Copying blob 1103112ebfc4 done  \n",
      "Copying blob d155c15b7553 done  \n",
      "Copying blob 8a1e25ce7c4f done  \n",
      "\u001b[5A\u001b[JCopying blob 4a654a9b63a6 done  \n",
      "Copying blob 9e59167aa400 done  \n",
      "Copying blob 1103112ebfc4 done  \n",
      "Copying blob d155c15b7553 done  \n",
      "Copying blob 8a1e25ce7c4f done  \n",
      "\u001b[5A\u001b[JCopying blob 4a654a9b63a6 done  \n",
      "Copying blob 9e59167aa400 done  \n",
      "Copying blob 1103112ebfc4 done  \n",
      "Copying blob d155c15b7553 done  \n",
      "Copying blob 8a1e25ce7c4f done  \n",
      "Copying config af6a90a1d6 [====================================] 6.8KiB / 6.8KiB\n",
      "\u001b[1A\u001b[JCopying config af6a90a1d6 done  \n",
      "Writing manifest to image destination\n",
      "Storing signatures\n",
      "STEP 2/4: RUN pip install --no-cache-dir rasterio click pystac loguru pyproj shapely &&     python -c \"import rasterio\"\n",
      "Collecting rasterio\n",
      "  Downloading rasterio-1.3.9-cp310-cp310-manylinux2014_x86_64.whl (20.6 MB)\n",
      "     ━━━━━━━━━━━━━━━━━━━━━━━━━━━━━━━━━━━━━━━ 20.6/20.6 MB 119.5 MB/s eta 0:00:00\n",
      "Collecting click\n",
      "  Downloading click-8.1.7-py3-none-any.whl (97 kB)\n",
      "     ━━━━━━━━━━━━━━━━━━━━━━━━━━━━━━━━━━━━━━━━ 97.9/97.9 kB 79.5 MB/s eta 0:00:00\n",
      "Collecting pystac\n",
      "  Downloading pystac-1.10.0-py3-none-any.whl (182 kB)\n",
      "     ━━━━━━━━━━━━━━━━━━━━━━━━━━━━━━━━━━━━━ 182.9/182.9 kB 196.2 MB/s eta 0:00:00\n",
      "Collecting loguru\n",
      "  Downloading loguru-0.7.2-py3-none-any.whl (62 kB)\n",
      "     ━━━━━━━━━━━━━━━━━━━━━━━━━━━━━━━━━━━━━━━ 62.5/62.5 kB 141.9 MB/s eta 0:00:00\n",
      "Collecting pyproj\n",
      "  Downloading pyproj-3.6.1-cp310-cp310-manylinux_2_17_x86_64.manylinux2014_x86_64.whl (8.3 MB)\n",
      "     ━━━━━━━━━━━━━━━━━━━━━━━━━━━━━━━━━━━━━━━━ 8.3/8.3 MB 78.5 MB/s eta 0:00:00\n",
      "Collecting shapely\n",
      "  Downloading shapely-2.0.3-cp310-cp310-manylinux_2_17_x86_64.manylinux2014_x86_64.whl (2.5 MB)\n",
      "     ━━━━━━━━━━━━━━━━━━━━━━━━━━━━━━━━━━━━━━━━ 2.5/2.5 MB 135.2 MB/s eta 0:00:00\n",
      "Collecting affine\n",
      "  Downloading affine-2.4.0-py3-none-any.whl (15 kB)\n",
      "Collecting numpy\n",
      "  Downloading numpy-1.26.4-cp310-cp310-manylinux_2_17_x86_64.manylinux2014_x86_64.whl (18.2 MB)\n",
      "     ━━━━━━━━━━━━━━━━━━━━━━━━━━━━━━━━━━━━━━━ 18.2/18.2 MB 123.5 MB/s eta 0:00:00\n",
      "Collecting certifi\n",
      "  Downloading certifi-2024.2.2-py3-none-any.whl (163 kB)\n",
      "     ━━━━━━━━━━━━━━━━━━━━━━━━━━━━━━━━━━━━━━ 163.8/163.8 kB 80.3 MB/s eta 0:00:00\n",
      "Collecting snuggs>=1.4.1\n",
      "  Downloading snuggs-1.4.7-py3-none-any.whl (5.4 kB)\n",
      "Requirement already satisfied: setuptools in /usr/local/lib/python3.10/site-packages (from rasterio) (65.5.1)\n",
      "Collecting cligj>=0.5\n",
      "  Downloading cligj-0.7.2-py3-none-any.whl (7.1 kB)\n",
      "Collecting attrs\n",
      "  Downloading attrs-23.2.0-py3-none-any.whl (60 kB)\n",
      "     ━━━━━━━━━━━━━━━━━━━━━━━━━━━━━━━━━━━━━━━ 60.8/60.8 kB 129.4 MB/s eta 0:00:00\n",
      "Collecting click-plugins\n",
      "  Downloading click_plugins-1.1.1-py2.py3-none-any.whl (7.5 kB)\n",
      "Collecting python-dateutil>=2.7.0\n",
      "  Downloading python_dateutil-2.9.0.post0-py2.py3-none-any.whl (229 kB)\n",
      "     ━━━━━━━━━━━━━━━━━━━━━━━━━━━━━━━━━━━━━ 229.9/229.9 kB 165.0 MB/s eta 0:00:00\n",
      "Collecting six>=1.5\n",
      "  Downloading six-1.16.0-py2.py3-none-any.whl (11 kB)\n",
      "Collecting pyparsing>=2.1.6\n",
      "  Downloading pyparsing-3.1.2-py3-none-any.whl (103 kB)\n",
      "     ━━━━━━━━━━━━━━━━━━━━━━━━━━━━━━━━━━━━━ 103.2/103.2 kB 175.4 MB/s eta 0:00:00\n",
      "Installing collected packages: six, pyparsing, numpy, loguru, click, certifi, attrs, affine, snuggs, shapely, python-dateutil, pyproj, cligj, click-plugins, rasterio, pystac\n",
      "Successfully installed affine-2.4.0 attrs-23.2.0 certifi-2024.2.2 click-8.1.7 click-plugins-1.1.1 cligj-0.7.2 loguru-0.7.2 numpy-1.26.4 pyparsing-3.1.2 pyproj-3.6.1 pystac-1.10.0 python-dateutil-2.9.0.post0 rasterio-1.3.9 shapely-2.0.3 six-1.16.0 snuggs-1.4.7\n",
      "WARNING: Running pip as the 'root' user can result in broken permissions and conflicting behaviour with the system package manager. It is recommended to use a virtual environment instead: https://pip.pypa.io/warnings/venv\n",
      "\n",
      "[notice] A new release of pip is available: 23.0.1 -> 24.0\n",
      "[notice] To update, run: pip install --upgrade pip\n",
      "--> 380faeeccd3\n",
      "STEP 3/4: ADD app.py /app/app.py\n",
      "--> e7326bd41eb\n",
      "STEP 4/4: ENTRYPOINT []\n",
      "COMMIT crop\n",
      "--> 31937611bd5\n",
      "Successfully tagged localhost/crop:latest\n",
      "31937611bd5cd427b762daa3cc25d77411be78a490b548804417ca78712189d7\n"
     ]
    }
   ],
   "source": [
    "podman build -t crop ."
   ]
  },
  {
   "cell_type": "code",
   "execution_count": null,
   "metadata": {
    "vscode": {
     "languageId": "shellscript"
    }
   },
   "outputs": [],
   "source": []
  },
  {
   "cell_type": "markdown",
   "metadata": {},
   "source": [
    "List the container images:"
   ]
  },
  {
   "cell_type": "code",
   "execution_count": 8,
   "metadata": {
    "vscode": {
     "languageId": "shellscript"
    }
   },
   "outputs": [
    {
     "name": "stdout",
     "output_type": "stream",
     "text": [
      "REPOSITORY                TAG         IMAGE ID      CREATED         SIZE\n",
      "localhost/crop            latest      31937611bd5c  36 seconds ago  325 MB\n",
      "docker.io/library/python  3.10-slim   af6a90a1d65e  13 days ago     133 MB\n"
     ]
    }
   ],
   "source": [
    "podman images"
   ]
  },
  {
   "cell_type": "markdown",
   "metadata": {},
   "source": [
    "Run the container to show the `crop` command line tool help:"
   ]
  },
  {
   "cell_type": "code",
   "execution_count": 11,
   "metadata": {
    "vscode": {
     "languageId": "shellscript"
    }
   },
   "outputs": [
    {
     "name": "stdout",
     "output_type": "stream",
     "text": [
      "Usage: app.py [OPTIONS]\n",
      "\n",
      "  Crops a STAC Item asset defined with its common band name\n",
      "\n",
      "Options:\n",
      "  --input-item TEXT  STAC Item URL or staged STAC catalog  [required]\n",
      "  --aoi TEXT         Area of interest expressed as a bounding box  [required]\n",
      "  --epsg TEXT        EPSG code  [required]\n",
      "  --band TEXT        Common band name  [required]\n",
      "  --help             Show this message and exit.\n"
     ]
    }
   ],
   "source": [
    "podman run --rm -it -e PYTHONPATH=/app localhost/crop:latest python -m app --help"
   ]
  },
  {
   "cell_type": "markdown",
   "metadata": {},
   "source": [
    "Run the application with arguments:"
   ]
  },
  {
   "cell_type": "code",
   "execution_count": 12,
   "metadata": {
    "vscode": {
     "languageId": "shellscript"
    }
   },
   "outputs": [
    {
     "name": "stdout",
     "output_type": "stream",
     "text": [
      "2024-04-04 09:49:31.337 | INFO     | __main__:crop:69 - Read S2B_10TFK_20210713_0_L2A from https://earth-search.aws.element84.com/v0/collections/sentinel-s2-l2a-cogs/items/S2B_10TFK_20210713_0_L2A\n",
      "2024-04-04 09:49:31.959 | INFO     | __main__:crop:72 - Read asset green from https://sentinel-cogs.s3.us-west-2.amazonaws.com/sentinel-s2-l2a-cogs/10/T/FK/2021/7/S2B_10TFK_20210713_0_L2A/B03.tif\n",
      "2024-04-04 09:49:33.988 | INFO     | __main__:crop:90 - Crop https://sentinel-cogs.s3.us-west-2.amazonaws.com/sentinel-s2-l2a-cogs/10/T/FK/2021/7/S2B_10TFK_20210713_0_L2A/B03.tif\n",
      "2024-04-04 09:49:59.952 | INFO     | __main__:crop:112 - Write crop_green.tif\n",
      "2024-04-04 09:50:04.139 | INFO     | __main__:crop:115 - Done!\n"
     ]
    }
   ],
   "source": [
    "podman run \\\n",
    "    -i \\\n",
    "    --userns=keep-id \\\n",
    "    --mount=type=bind,source=.,target=/runs \\\n",
    "    --workdir=/runs \\\n",
    "    --read-only=true \\\n",
    "    --user=1001:100 \\\n",
    "    --rm \\\n",
    "    --env=HOME=/runs \\\n",
    "    --env=PYTHONPATH=/app \\\n",
    "    localhost/crop:latest \\\n",
    "    python \\\n",
    "    -m \\\n",
    "    app \\\n",
    "    --aoi \\\n",
    "    \"-121.399,39.834,-120.74,40.472\" \\\n",
    "    --band \\\n",
    "    green \\\n",
    "    --epsg \\\n",
    "    \"EPSG:4326\" \\\n",
    "    --input-item \\\n",
    "    https://earth-search.aws.element84.com/v0/collections/sentinel-s2-l2a-cogs/items/S2B_10TFK_20210713_0_L2A"
   ]
  },
  {
   "cell_type": "code",
   "execution_count": null,
   "metadata": {
    "vscode": {
     "languageId": "shellscript"
    }
   },
   "outputs": [],
   "source": []
  }
 ],
 "metadata": {
  "kernelspec": {
   "display_name": "Bash",
   "language": "bash",
   "name": "bash"
  },
  "language_info": {
   "codemirror_mode": "shell",
   "file_extension": ".sh",
   "mimetype": "text/x-sh",
   "name": "bash"
  }
 },
 "nbformat": 4,
 "nbformat_minor": 2
}
