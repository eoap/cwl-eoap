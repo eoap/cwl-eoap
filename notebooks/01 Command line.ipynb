{
 "cells": [
  {
   "cell_type": "markdown",
   "metadata": {},
   "source": [
    "# Command line"
   ]
  },
  {
   "cell_type": "markdown",
   "metadata": {},
   "source": [
    "Below a Python application \n"
   ]
  },
  {
   "cell_type": "code",
   "execution_count": 2,
   "metadata": {},
   "outputs": [],
   "source": [
    "import os\n",
    "import click\n",
    "import pystac\n",
    "import rasterio\n",
    "from rasterio.mask import mask\n",
    "from pyproj import Transformer\n",
    "from shapely import box\n",
    "from loguru import logger\n",
    "\n",
    "\n",
    "def aoi2box(aoi):\n",
    "    \"\"\"Converts an area of interest expressed as a bounding box to a list of floats\"\"\"\n",
    "    return [float(c) for c in aoi.split(\",\")]\n",
    "\n",
    "\n",
    "def get_asset(item, common_name):\n",
    "    \"\"\"Returns the asset of a STAC Item defined with its common band name\"\"\"\n",
    "    for _, asset in item.get_assets().items():\n",
    "        if not \"data\" in asset.to_dict()[\"roles\"]:\n",
    "            continue\n",
    "\n",
    "        eo_asset = pystac.extensions.eo.AssetEOExtension(asset)\n",
    "        if not eo_asset.bands:\n",
    "            continue\n",
    "        for b in eo_asset.bands:\n",
    "            if (\n",
    "                \"common_name\" in b.properties.keys()\n",
    "                and b.properties[\"common_name\"] == common_name\n",
    "            ):\n",
    "                return asset\n",
    "\n",
    "\n",
    "@click.command(\n",
    "    short_help=\"Crop\",\n",
    "    help=\"Crops a STAC Item asset defined with its common band name\",\n",
    ")\n",
    "@click.option(\n",
    "    \"--input-item\",\n",
    "    \"item_url\",\n",
    "    help=\"STAC Item URL or staged STAC catalog\",\n",
    "    required=True,\n",
    ")\n",
    "@click.option(\n",
    "    \"--aoi\",\n",
    "    \"aoi\",\n",
    "    help=\"Area of interest expressed as a bounding box\",\n",
    "    required=True,\n",
    ")\n",
    "@click.option(\n",
    "    \"--epsg\",\n",
    "    \"epsg\",\n",
    "    help=\"EPSG code\",\n",
    "    required=True,\n",
    ")\n",
    "@click.option(\n",
    "    \"--band\",\n",
    "    \"band\",\n",
    "    help=\"Common band name\",\n",
    "    required=True,\n",
    ")\n",
    "def crop(item_url, aoi, band, epsg):\n",
    "\n",
    "    if os.path.isdir(item_url):\n",
    "        catalog = pystac.read_file(os.path.join(item_url, \"catalog.json\"))\n",
    "        item = next(catalog.get_items())\n",
    "    else:\n",
    "        item = pystac.read_file(item_url)\n",
    "\n",
    "    logger.info(f\"Read {item.id} from {item.get_self_href()}\")\n",
    "\n",
    "    asset = get_asset(item, band)\n",
    "    logger.info(f\"Read asset {band} from {asset.get_absolute_href()}\")\n",
    "\n",
    "    if not asset:\n",
    "        msg = f\"Common band name {band} not found in the assets\"\n",
    "        logger.error(msg)\n",
    "        raise ValueError(msg)\n",
    "\n",
    "    bbox = aoi2box(aoi)\n",
    "\n",
    "    with rasterio.open(asset.get_absolute_href()) as src:\n",
    "\n",
    "        transformer = Transformer.from_crs(epsg, src.crs, always_xy=True)\n",
    "\n",
    "        minx, miny = transformer.transform(bbox[0], bbox[1])\n",
    "        maxx, maxy = transformer.transform(bbox[2], bbox[3])\n",
    "\n",
    "        transformed_bbox = box(minx, miny, maxx, maxy)\n",
    "\n",
    "        logger.info(f\"Crop {asset.get_absolute_href()}\")\n",
    "\n",
    "        out_image, out_transform = rasterio.mask.mask(\n",
    "            src, [transformed_bbox], crop=True\n",
    "        )\n",
    "        out_meta = src.meta.copy()\n",
    "\n",
    "        out_meta.update(\n",
    "            {\n",
    "                \"height\": out_image.shape[1],\n",
    "                \"width\": out_image.shape[2],\n",
    "                \"transform\": out_transform,\n",
    "                \"dtype\": \"uint16\",\n",
    "                \"driver\": \"COG\",\n",
    "                \"tiled\": True,\n",
    "                \"compress\": \"lzw\",\n",
    "                \"blockxsize\": 256,\n",
    "                \"blockysize\": 256,\n",
    "            }\n",
    "        )\n",
    "\n",
    "        with rasterio.open(f\"crop_{band}.tif\", \"w\", **out_meta) as dst_dataset:\n",
    "            logger.info(f\"Write crop_{band}.tif\")\n",
    "            dst_dataset.write(out_image)\n",
    "\n",
    "    logger.info(\"Done!\")\n"
   ]
  },
  {
   "cell_type": "markdown",
   "metadata": {},
   "source": [
    "Print the command-line tool help:"
   ]
  },
  {
   "cell_type": "code",
   "execution_count": 3,
   "metadata": {},
   "outputs": [
    {
     "name": "stdout",
     "output_type": "stream",
     "text": [
      "Usage: crop [OPTIONS]\n",
      "\n",
      "  Crops a STAC Item asset defined with its common band name\n",
      "\n",
      "Options:\n",
      "  --input-item TEXT  STAC Item URL or staged STAC catalog  [required]\n",
      "  --aoi TEXT         Area of interest expressed as a bounding box  [required]\n",
      "  --epsg TEXT        EPSG code  [required]\n",
      "  --band TEXT        Common band name  [required]\n",
      "  --help             Show this message and exit.\n",
      "\n"
     ]
    }
   ],
   "source": [
    "from click.testing import CliRunner\n",
    "\n",
    "runner = CliRunner()\n",
    "result = runner.invoke(crop, ['--help'])\n",
    "\n",
    "print(result.output)"
   ]
  },
  {
   "cell_type": "markdown",
   "metadata": {},
   "source": [
    "Run the application:"
   ]
  },
  {
   "cell_type": "code",
   "execution_count": 4,
   "metadata": {},
   "outputs": [
    {
     "name": "stderr",
     "output_type": "stream",
     "text": [
      "\u001b[32m2024-04-04 09:21:25.449\u001b[0m | \u001b[1mINFO    \u001b[0m | \u001b[36m__main__\u001b[0m:\u001b[36mcrop\u001b[0m:\u001b[36m69\u001b[0m - \u001b[1mRead S2B_10TFK_20210713_0_L2A from https://earth-search.aws.element84.com/v0/collections/sentinel-s2-l2a-cogs/items/S2B_10TFK_20210713_0_L2A\u001b[0m\n",
      "\u001b[32m2024-04-04 09:21:26.176\u001b[0m | \u001b[1mINFO    \u001b[0m | \u001b[36m__main__\u001b[0m:\u001b[36mcrop\u001b[0m:\u001b[36m72\u001b[0m - \u001b[1mRead asset green from https://sentinel-cogs.s3.us-west-2.amazonaws.com/sentinel-s2-l2a-cogs/10/T/FK/2021/7/S2B_10TFK_20210713_0_L2A/B03.tif\u001b[0m\n",
      "\u001b[32m2024-04-04 09:21:29.272\u001b[0m | \u001b[1mINFO    \u001b[0m | \u001b[36m__main__\u001b[0m:\u001b[36mcrop\u001b[0m:\u001b[36m90\u001b[0m - \u001b[1mCrop https://sentinel-cogs.s3.us-west-2.amazonaws.com/sentinel-s2-l2a-cogs/10/T/FK/2021/7/S2B_10TFK_20210713_0_L2A/B03.tif\u001b[0m\n",
      "\u001b[32m2024-04-04 09:21:58.039\u001b[0m | \u001b[1mINFO    \u001b[0m | \u001b[36m__main__\u001b[0m:\u001b[36mcrop\u001b[0m:\u001b[36m112\u001b[0m - \u001b[1mWrite crop_green.tif\u001b[0m\n",
      "\u001b[32m2024-04-04 09:22:01.096\u001b[0m | \u001b[1mINFO    \u001b[0m | \u001b[36m__main__\u001b[0m:\u001b[36mcrop\u001b[0m:\u001b[36m115\u001b[0m - \u001b[1mDone!\u001b[0m\n"
     ]
    },
    {
     "name": "stdout",
     "output_type": "stream",
     "text": [
      "\n"
     ]
    }
   ],
   "source": [
    "arguments = [\"--input-item\", \"https://earth-search.aws.element84.com/v0/collections/sentinel-s2-l2a-cogs/items/S2B_10TFK_20210713_0_L2A\",\n",
    "             \"--aoi\", \"-121.399,39.834,-120.74,40.472\",\n",
    "             \"--epsg\", \"EPSG:4326\",\n",
    "             \"--band\", \"green\"]\n",
    "\n",
    "runner = CliRunner()\n",
    "result = runner.invoke(crop, args=arguments)\n",
    "\n",
    "print(result.output)"
   ]
  },
  {
   "cell_type": "code",
   "execution_count": null,
   "metadata": {},
   "outputs": [],
   "source": []
  }
 ],
 "metadata": {
  "kernelspec": {
   "display_name": "Python 3",
   "language": "python",
   "name": "python3"
  },
  "language_info": {
   "codemirror_mode": {
    "name": "ipython",
    "version": 3
   },
   "file_extension": ".py",
   "mimetype": "text/x-python",
   "name": "python",
   "nbconvert_exporter": "python",
   "pygments_lexer": "ipython3",
   "version": "3.11.8"
  }
 },
 "nbformat": 4,
 "nbformat_minor": 2
}
